{
 "cells": [
  {
   "cell_type": "code",
   "execution_count": 1,
   "metadata": {},
   "outputs": [],
   "source": [
    "import pandas as pd\n",
    "import numpy as np\n",
    "import os"
   ]
  },
  {
   "cell_type": "code",
   "execution_count": 2,
   "metadata": {},
   "outputs": [],
   "source": [
    "dirname = 'C:/Users/Big data/Desktop/Tibame_tool_Data'"
   ]
  },
  {
   "cell_type": "code",
   "execution_count": 6,
   "metadata": {},
   "outputs": [
    {
     "data": {
      "text/html": [
       "<div>\n",
       "<style scoped>\n",
       "    .dataframe tbody tr th:only-of-type {\n",
       "        vertical-align: middle;\n",
       "    }\n",
       "\n",
       "    .dataframe tbody tr th {\n",
       "        vertical-align: top;\n",
       "    }\n",
       "\n",
       "    .dataframe thead th {\n",
       "        text-align: right;\n",
       "    }\n",
       "</style>\n",
       "<table border=\"1\" class=\"dataframe\">\n",
       "  <thead>\n",
       "    <tr style=\"text-align: right;\">\n",
       "      <th></th>\n",
       "      <th>Dr_Name</th>\n",
       "      <th>ORDERDR</th>\n",
       "      <th>Remarked</th>\n",
       "      <th>Department</th>\n",
       "    </tr>\n",
       "  </thead>\n",
       "  <tbody>\n",
       "    <tr>\n",
       "      <th>0</th>\n",
       "      <td>李淳權</td>\n",
       "      <td>5957</td>\n",
       "      <td>NaN</td>\n",
       "      <td>內分泌暨新陳代謝科(12)</td>\n",
       "    </tr>\n",
       "    <tr>\n",
       "      <th>1</th>\n",
       "      <td>廖偉丞</td>\n",
       "      <td>5147</td>\n",
       "      <td>NaN</td>\n",
       "      <td>內分泌暨新陳代謝科(12)</td>\n",
       "    </tr>\n",
       "    <tr>\n",
       "      <th>2</th>\n",
       "      <td>梁清香</td>\n",
       "      <td>5969</td>\n",
       "      <td>NaN</td>\n",
       "      <td>內分泌暨新陳代謝科(12)</td>\n",
       "    </tr>\n",
       "    <tr>\n",
       "      <th>3</th>\n",
       "      <td>簡銘男</td>\n",
       "      <td>5951</td>\n",
       "      <td>NaN</td>\n",
       "      <td>內分泌暨新陳代謝科(12)</td>\n",
       "    </tr>\n",
       "    <tr>\n",
       "      <th>4</th>\n",
       "      <td>莊世旻</td>\n",
       "      <td>6472</td>\n",
       "      <td>NaN</td>\n",
       "      <td>內分泌暨新陳代謝科(12)</td>\n",
       "    </tr>\n",
       "  </tbody>\n",
       "</table>\n",
       "</div>"
      ],
      "text/plain": [
       "  Dr_Name ORDERDR Remarked     Department\n",
       "0     李淳權    5957      NaN  內分泌暨新陳代謝科(12)\n",
       "1     廖偉丞    5147      NaN  內分泌暨新陳代謝科(12)\n",
       "2     梁清香    5969      NaN  內分泌暨新陳代謝科(12)\n",
       "3     簡銘男    5951      NaN  內分泌暨新陳代謝科(12)\n",
       "4     莊世旻    6472      NaN  內分泌暨新陳代謝科(12)"
      ]
     },
     "execution_count": 6,
     "metadata": {},
     "output_type": "execute_result"
    }
   ],
   "source": [
    "f_DR = os.path.join(dirname,'Doctor_merge_ORDERDR_Department')\n",
    "DR = pd.read_csv(f_DR)\n",
    "DR.head()"
   ]
  },
  {
   "cell_type": "code",
   "execution_count": 7,
   "metadata": {},
   "outputs": [
    {
     "name": "stdout",
     "output_type": "stream",
     "text": [
      "<class 'pandas.core.frame.DataFrame'>\n",
      "RangeIndex: 782 entries, 0 to 781\n",
      "Data columns (total 4 columns):\n",
      "Dr_Name       782 non-null object\n",
      "ORDERDR       782 non-null object\n",
      "Remarked      170 non-null object\n",
      "Department    782 non-null object\n",
      "dtypes: object(4)\n",
      "memory usage: 24.5+ KB\n"
     ]
    }
   ],
   "source": [
    "DR.info()"
   ]
  },
  {
   "cell_type": "code",
   "execution_count": 8,
   "metadata": {},
   "outputs": [],
   "source": [
    "DR.to_csv('DR_final',sep=',')"
   ]
  }
 ],
 "metadata": {
  "kernelspec": {
   "display_name": "Python 3",
   "language": "python",
   "name": "python3"
  },
  "language_info": {
   "codemirror_mode": {
    "name": "ipython",
    "version": 3
   },
   "file_extension": ".py",
   "mimetype": "text/x-python",
   "name": "python",
   "nbconvert_exporter": "python",
   "pygments_lexer": "ipython3",
   "version": "3.7.3"
  }
 },
 "nbformat": 4,
 "nbformat_minor": 2
}
