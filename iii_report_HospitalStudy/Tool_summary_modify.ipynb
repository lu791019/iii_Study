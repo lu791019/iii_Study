{
 "cells": [
  {
   "cell_type": "code",
   "execution_count": 55,
   "metadata": {},
   "outputs": [],
   "source": [
    "import pandas as pd\n",
    "import os\n",
    "from datetime import datetime"
   ]
  },
  {
   "cell_type": "code",
   "execution_count": 3,
   "metadata": {},
   "outputs": [],
   "source": [
    "dirname = 'C:/Users/Big data/Desktop/Tool'\n",
    "f_TS = os.path.join(dirname,'Tool_summary')"
   ]
  },
  {
   "cell_type": "code",
   "execution_count": 4,
   "metadata": {},
   "outputs": [],
   "source": [
    "TS = pd.read_csv(f_TS)"
   ]
  },
  {
   "cell_type": "code",
   "execution_count": 33,
   "metadata": {},
   "outputs": [
    {
     "data": {
      "text/html": [
       "<div>\n",
       "<style scoped>\n",
       "    .dataframe tbody tr th:only-of-type {\n",
       "        vertical-align: middle;\n",
       "    }\n",
       "\n",
       "    .dataframe tbody tr th {\n",
       "        vertical-align: top;\n",
       "    }\n",
       "\n",
       "    .dataframe thead th {\n",
       "        text-align: right;\n",
       "    }\n",
       "</style>\n",
       "<table border=\"1\" class=\"dataframe\">\n",
       "  <thead>\n",
       "    <tr style=\"text-align: right;\">\n",
       "      <th></th>\n",
       "      <th>PNO</th>\n",
       "      <th>CDATE</th>\n",
       "      <th>ITEM</th>\n",
       "      <th>SEQNO</th>\n",
       "      <th>BDATE</th>\n",
       "      <th>EDATE</th>\n",
       "      <th>ORDERDR</th>\n",
       "      <th>AMOUNT</th>\n",
       "      <th>SEX</th>\n",
       "      <th>AGE</th>\n",
       "      <th>Tool ID</th>\n",
       "    </tr>\n",
       "  </thead>\n",
       "  <tbody>\n",
       "    <tr>\n",
       "      <th>0</th>\n",
       "      <td>30228811</td>\n",
       "      <td>2017-10-02</td>\n",
       "      <td>79993</td>\n",
       "      <td>1060351497</td>\n",
       "      <td>2017/10/2下午03:48:00</td>\n",
       "      <td>2017/10/2下午04:21:26</td>\n",
       "      <td>4312</td>\n",
       "      <td>5035.0</td>\n",
       "      <td>F</td>\n",
       "      <td>47</td>\n",
       "      <td>105216</td>\n",
       "    </tr>\n",
       "    <tr>\n",
       "      <th>1</th>\n",
       "      <td>43524029</td>\n",
       "      <td>2017-10-02</td>\n",
       "      <td>79993</td>\n",
       "      <td>1060350477</td>\n",
       "      <td>2017/10/2早上 09:27:00</td>\n",
       "      <td>2017/10/2早上 09:49:47</td>\n",
       "      <td>4035</td>\n",
       "      <td>5035.0</td>\n",
       "      <td>M</td>\n",
       "      <td>65</td>\n",
       "      <td>105216</td>\n",
       "    </tr>\n",
       "    <tr>\n",
       "      <th>2</th>\n",
       "      <td>34436618</td>\n",
       "      <td>2017-10-02</td>\n",
       "      <td>79993</td>\n",
       "      <td>1060350704</td>\n",
       "      <td>2017/10/2早上 10:50:00</td>\n",
       "      <td>2017/10/2早上 11:24:41</td>\n",
       "      <td>4764</td>\n",
       "      <td>5035.0</td>\n",
       "      <td>M</td>\n",
       "      <td>61</td>\n",
       "      <td>105216</td>\n",
       "    </tr>\n",
       "    <tr>\n",
       "      <th>3</th>\n",
       "      <td>5717906</td>\n",
       "      <td>2017-10-02</td>\n",
       "      <td>79993</td>\n",
       "      <td>1060350602</td>\n",
       "      <td>2017/10/2早上 10:11:00</td>\n",
       "      <td>2017/10/2早上 11:00:47</td>\n",
       "      <td>5936</td>\n",
       "      <td>5035.0</td>\n",
       "      <td>M</td>\n",
       "      <td>83</td>\n",
       "      <td>105216</td>\n",
       "    </tr>\n",
       "    <tr>\n",
       "      <th>4</th>\n",
       "      <td>9556173</td>\n",
       "      <td>2017-10-02</td>\n",
       "      <td>79993</td>\n",
       "      <td>1060350598</td>\n",
       "      <td>2017/10/2早上 10:10:00</td>\n",
       "      <td>2017/10/2早上 11:07:17</td>\n",
       "      <td>4417</td>\n",
       "      <td>5035.0</td>\n",
       "      <td>F</td>\n",
       "      <td>58</td>\n",
       "      <td>105216</td>\n",
       "    </tr>\n",
       "  </tbody>\n",
       "</table>\n",
       "</div>"
      ],
      "text/plain": [
       "        PNO       CDATE   ITEM       SEQNO                 BDATE  \\\n",
       "0  30228811  2017-10-02  79993  1060351497   2017/10/2下午03:48:00   \n",
       "1  43524029  2017-10-02  79993  1060350477  2017/10/2早上 09:27:00   \n",
       "2  34436618  2017-10-02  79993  1060350704  2017/10/2早上 10:50:00   \n",
       "3   5717906  2017-10-02  79993  1060350602  2017/10/2早上 10:11:00   \n",
       "4   9556173  2017-10-02  79993  1060350598  2017/10/2早上 10:10:00   \n",
       "\n",
       "                  EDATE  ORDERDR  AMOUNT SEX  AGE Tool ID  \n",
       "0   2017/10/2下午04:21:26     4312  5035.0   F   47  105216  \n",
       "1  2017/10/2早上 09:49:47     4035  5035.0   M   65  105216  \n",
       "2  2017/10/2早上 11:24:41     4764  5035.0   M   61  105216  \n",
       "3  2017/10/2早上 11:00:47     5936  5035.0   M   83  105216  \n",
       "4  2017/10/2早上 11:07:17     4417  5035.0   F   58  105216  "
      ]
     },
     "execution_count": 33,
     "metadata": {},
     "output_type": "execute_result"
    }
   ],
   "source": [
    "TS.head()"
   ]
  },
  {
   "cell_type": "code",
   "execution_count": 6,
   "metadata": {},
   "outputs": [
    {
     "data": {
      "text/plain": [
       "Index(['PNO', 'CDATE', 'ITEM', 'SEQNO', 'BDATE', 'EDATE', 'ORDERDR', 'AMOUNT',\n",
       "       'SEX', 'AGE', 'Tool ID'],\n",
       "      dtype='object')"
      ]
     },
     "execution_count": 6,
     "metadata": {},
     "output_type": "execute_result"
    }
   ],
   "source": [
    "TS.columns"
   ]
  },
  {
   "cell_type": "code",
   "execution_count": 9,
   "metadata": {},
   "outputs": [
    {
     "data": {
      "text/plain": [
       "pandas.core.series.Series"
      ]
     },
     "execution_count": 9,
     "metadata": {},
     "output_type": "execute_result"
    }
   ],
   "source": [
    "type(TS['CDATE'])"
   ]
  },
  {
   "cell_type": "code",
   "execution_count": 13,
   "metadata": {},
   "outputs": [],
   "source": [
    "TSmod = TS['BDATE'].str.replace('早上 ', ' AM')"
   ]
  },
  {
   "cell_type": "code",
   "execution_count": 14,
   "metadata": {},
   "outputs": [],
   "source": [
    "TSmod = TSmod.str.replace('AM',' AM ')"
   ]
  },
  {
   "cell_type": "code",
   "execution_count": 15,
   "metadata": {},
   "outputs": [
    {
     "data": {
      "text/plain": [
       "0       2017/10/2下午03:48:00\n",
       "1    2017/10/2  AM 09:27:00\n",
       "2    2017/10/2  AM 10:50:00\n",
       "3    2017/10/2  AM 10:11:00\n",
       "4    2017/10/2  AM 10:10:00\n",
       "Name: BDATE, dtype: object"
      ]
     },
     "execution_count": 15,
     "metadata": {},
     "output_type": "execute_result"
    }
   ],
   "source": [
    "TSmod.head()"
   ]
  },
  {
   "cell_type": "code",
   "execution_count": 16,
   "metadata": {},
   "outputs": [],
   "source": [
    "TSmod = TSmod.str.replace('下午','PM')"
   ]
  },
  {
   "cell_type": "code",
   "execution_count": 18,
   "metadata": {
    "scrolled": true
   },
   "outputs": [],
   "source": [
    "TSmod = TSmod.str.replace('PM',' PM ')"
   ]
  },
  {
   "cell_type": "code",
   "execution_count": 19,
   "metadata": {
    "scrolled": true
   },
   "outputs": [
    {
     "data": {
      "text/plain": [
       "0         2017/10/2 PM 03:48:00\n",
       "1        2017/10/2  AM 09:27:00\n",
       "2        2017/10/2  AM 10:50:00\n",
       "3        2017/10/2  AM 10:11:00\n",
       "4        2017/10/2  AM 10:10:00\n",
       "5         2017/10/2 PM 03:10:00\n",
       "6         2017/10/2 PM 02:49:00\n",
       "7        2017/10/2  AM 11:00:00\n",
       "8         2017/10/2 PM 04:17:00\n",
       "9         2017/10/2 PM 03:56:00\n",
       "10        2017/10/2 PM 03:21:00\n",
       "11       2017/10/2  AM 08:45:00\n",
       "12       2017/10/2  AM 08:44:00\n",
       "13       2017/10/2  AM 08:33:00\n",
       "14       2017/10/2  AM 11:37:00\n",
       "15       2017/10/2  AM 09:00:00\n",
       "16       2017/10/2  AM 09:15:00\n",
       "17        2017/10/2 PM 03:05:00\n",
       "18        2017/10/2 PM 01:33:00\n",
       "19        2017/10/2 PM 02:48:00\n",
       "20        2017/10/2 PM 05:20:00\n",
       "21        2017/10/2 PM 03:07:00\n",
       "22        2017/10/2 PM 05:42:00\n",
       "23        2017/10/2 PM 05:32:00\n",
       "24        2017/10/2 PM 12:44:00\n",
       "25        2017/10/2 PM 02:36:00\n",
       "26       2017/10/2  AM 10:13:00\n",
       "27       2017/10/2  AM 10:50:00\n",
       "28       2017/10/2  AM 11:51:00\n",
       "29       2017/10/2  AM 10:09:00\n",
       "                  ...          \n",
       "86208    2019/5/30  AM 11:02:00\n",
       "86209    2019/5/30  AM 09:40:00\n",
       "86210     2019/5/30 PM 11:12:00\n",
       "86211    2019/5/30  AM 09:48:00\n",
       "86212    2019/5/30  AM 08:27:00\n",
       "86213    2019/5/30  AM 09:13:00\n",
       "86214     2019/5/30 PM 10:42:00\n",
       "86215    2019/5/30  AM 11:30:00\n",
       "86216    2019/5/30  AM 02:57:00\n",
       "86217    2019/5/30  AM 09:45:00\n",
       "86218    2019/5/30  AM 09:02:00\n",
       "86219    2019/5/30  AM 09:17:00\n",
       "86220    2019/5/30  AM 09:43:00\n",
       "86221    2019/5/30  AM 10:07:00\n",
       "86222    2019/5/31  AM 10:02:00\n",
       "86223    2019/5/31  AM 11:21:00\n",
       "86224    2019/5/31  AM 09:20:00\n",
       "86225     2019/5/31 PM 01:03:00\n",
       "86226    2019/5/31  AM 08:50:00\n",
       "86227    2019/5/31  AM 11:07:00\n",
       "86228    2019/5/31  AM 11:07:00\n",
       "86229    2019/5/31  AM 10:34:00\n",
       "86230    2019/5/31  AM 09:14:00\n",
       "86231    2019/5/31  AM 09:49:00\n",
       "86232    2019/5/31  AM 08:55:00\n",
       "86233    2019/5/31  AM 08:53:00\n",
       "86234    2019/5/31  AM 09:38:00\n",
       "86235    2019/5/31  AM 10:07:00\n",
       "86236    2019/5/31  AM 09:52:00\n",
       "86237    2019/5/31  AM 10:00:00\n",
       "Name: BDATE, Length: 86238, dtype: object"
      ]
     },
     "execution_count": 19,
     "metadata": {},
     "output_type": "execute_result"
    }
   ],
   "source": [
    "TSmod"
   ]
  },
  {
   "cell_type": "code",
   "execution_count": 20,
   "metadata": {},
   "outputs": [],
   "source": [
    "TSmod = TSmod.str.replace('  AM',' AM')"
   ]
  },
  {
   "cell_type": "code",
   "execution_count": 29,
   "metadata": {},
   "outputs": [
    {
     "data": {
      "text/plain": [
       "0    2017/10/2 PM 03:48:00\n",
       "1    2017/10/2 AM 09:27:00\n",
       "2    2017/10/2 AM 10:50:00\n",
       "3    2017/10/2 AM 10:11:00\n",
       "4    2017/10/2 AM 10:10:00\n",
       "Name: BDATE, dtype: object"
      ]
     },
     "execution_count": 29,
     "metadata": {},
     "output_type": "execute_result"
    }
   ],
   "source": [
    "TSmod.head()"
   ]
  },
  {
   "cell_type": "code",
   "execution_count": 36,
   "metadata": {},
   "outputs": [
    {
     "data": {
      "text/plain": [
       "0      2017/10/2下午04:21:26\n",
       "1    2017/10/2 AM 09:49:47\n",
       "2    2017/10/2 AM 11:24:41\n",
       "3    2017/10/2 AM 11:00:47\n",
       "4    2017/10/2 AM 11:07:17\n",
       "Name: EDATE, dtype: object"
      ]
     },
     "execution_count": 36,
     "metadata": {},
     "output_type": "execute_result"
    }
   ],
   "source": [
    "TSmod1 = TS['EDATE'].str.replace('早上 ',' AM ')\n",
    "TSmod1.head()"
   ]
  },
  {
   "cell_type": "code",
   "execution_count": 39,
   "metadata": {},
   "outputs": [
    {
     "data": {
      "text/plain": [
       "0    2017/10/2 PM 04:21:26\n",
       "1    2017/10/2 AM 09:49:47\n",
       "2    2017/10/2 AM 11:24:41\n",
       "3    2017/10/2 AM 11:00:47\n",
       "4    2017/10/2 AM 11:07:17\n",
       "Name: EDATE, dtype: object"
      ]
     },
     "execution_count": 39,
     "metadata": {},
     "output_type": "execute_result"
    }
   ],
   "source": [
    "TSmod1 = TSmod1.str.replace('下午',' PM ')\n",
    "TSmod1.head()"
   ]
  },
  {
   "cell_type": "code",
   "execution_count": 43,
   "metadata": {},
   "outputs": [
    {
     "data": {
      "text/html": [
       "<div>\n",
       "<style scoped>\n",
       "    .dataframe tbody tr th:only-of-type {\n",
       "        vertical-align: middle;\n",
       "    }\n",
       "\n",
       "    .dataframe tbody tr th {\n",
       "        vertical-align: top;\n",
       "    }\n",
       "\n",
       "    .dataframe thead th {\n",
       "        text-align: right;\n",
       "    }\n",
       "</style>\n",
       "<table border=\"1\" class=\"dataframe\">\n",
       "  <thead>\n",
       "    <tr style=\"text-align: right;\">\n",
       "      <th></th>\n",
       "      <th>PNO</th>\n",
       "      <th>CDATE</th>\n",
       "      <th>ITEM</th>\n",
       "      <th>SEQNO</th>\n",
       "      <th>BDATE</th>\n",
       "      <th>EDATE</th>\n",
       "      <th>ORDERDR</th>\n",
       "      <th>AMOUNT</th>\n",
       "      <th>SEX</th>\n",
       "      <th>AGE</th>\n",
       "      <th>Tool ID</th>\n",
       "      <th>BTime</th>\n",
       "      <th>ETime</th>\n",
       "    </tr>\n",
       "  </thead>\n",
       "  <tbody>\n",
       "    <tr>\n",
       "      <th>0</th>\n",
       "      <td>30228811</td>\n",
       "      <td>2017-10-02</td>\n",
       "      <td>79993</td>\n",
       "      <td>1060351497</td>\n",
       "      <td>2017/10/2下午03:48:00</td>\n",
       "      <td>2017/10/2下午04:21:26</td>\n",
       "      <td>4312</td>\n",
       "      <td>5035.0</td>\n",
       "      <td>F</td>\n",
       "      <td>47</td>\n",
       "      <td>105216</td>\n",
       "      <td>2017/10/2 PM 03:48:00</td>\n",
       "      <td>2017/10/2 PM 04:21:26</td>\n",
       "    </tr>\n",
       "    <tr>\n",
       "      <th>1</th>\n",
       "      <td>43524029</td>\n",
       "      <td>2017-10-02</td>\n",
       "      <td>79993</td>\n",
       "      <td>1060350477</td>\n",
       "      <td>2017/10/2早上 09:27:00</td>\n",
       "      <td>2017/10/2早上 09:49:47</td>\n",
       "      <td>4035</td>\n",
       "      <td>5035.0</td>\n",
       "      <td>M</td>\n",
       "      <td>65</td>\n",
       "      <td>105216</td>\n",
       "      <td>2017/10/2 AM 09:27:00</td>\n",
       "      <td>2017/10/2 AM 09:49:47</td>\n",
       "    </tr>\n",
       "    <tr>\n",
       "      <th>2</th>\n",
       "      <td>34436618</td>\n",
       "      <td>2017-10-02</td>\n",
       "      <td>79993</td>\n",
       "      <td>1060350704</td>\n",
       "      <td>2017/10/2早上 10:50:00</td>\n",
       "      <td>2017/10/2早上 11:24:41</td>\n",
       "      <td>4764</td>\n",
       "      <td>5035.0</td>\n",
       "      <td>M</td>\n",
       "      <td>61</td>\n",
       "      <td>105216</td>\n",
       "      <td>2017/10/2 AM 10:50:00</td>\n",
       "      <td>2017/10/2 AM 11:24:41</td>\n",
       "    </tr>\n",
       "    <tr>\n",
       "      <th>3</th>\n",
       "      <td>5717906</td>\n",
       "      <td>2017-10-02</td>\n",
       "      <td>79993</td>\n",
       "      <td>1060350602</td>\n",
       "      <td>2017/10/2早上 10:11:00</td>\n",
       "      <td>2017/10/2早上 11:00:47</td>\n",
       "      <td>5936</td>\n",
       "      <td>5035.0</td>\n",
       "      <td>M</td>\n",
       "      <td>83</td>\n",
       "      <td>105216</td>\n",
       "      <td>2017/10/2 AM 10:11:00</td>\n",
       "      <td>2017/10/2 AM 11:00:47</td>\n",
       "    </tr>\n",
       "    <tr>\n",
       "      <th>4</th>\n",
       "      <td>9556173</td>\n",
       "      <td>2017-10-02</td>\n",
       "      <td>79993</td>\n",
       "      <td>1060350598</td>\n",
       "      <td>2017/10/2早上 10:10:00</td>\n",
       "      <td>2017/10/2早上 11:07:17</td>\n",
       "      <td>4417</td>\n",
       "      <td>5035.0</td>\n",
       "      <td>F</td>\n",
       "      <td>58</td>\n",
       "      <td>105216</td>\n",
       "      <td>2017/10/2 AM 10:10:00</td>\n",
       "      <td>2017/10/2 AM 11:07:17</td>\n",
       "    </tr>\n",
       "  </tbody>\n",
       "</table>\n",
       "</div>"
      ],
      "text/plain": [
       "        PNO       CDATE   ITEM       SEQNO                 BDATE  \\\n",
       "0  30228811  2017-10-02  79993  1060351497   2017/10/2下午03:48:00   \n",
       "1  43524029  2017-10-02  79993  1060350477  2017/10/2早上 09:27:00   \n",
       "2  34436618  2017-10-02  79993  1060350704  2017/10/2早上 10:50:00   \n",
       "3   5717906  2017-10-02  79993  1060350602  2017/10/2早上 10:11:00   \n",
       "4   9556173  2017-10-02  79993  1060350598  2017/10/2早上 10:10:00   \n",
       "\n",
       "                  EDATE  ORDERDR  AMOUNT SEX  AGE Tool ID  \\\n",
       "0   2017/10/2下午04:21:26     4312  5035.0   F   47  105216   \n",
       "1  2017/10/2早上 09:49:47     4035  5035.0   M   65  105216   \n",
       "2  2017/10/2早上 11:24:41     4764  5035.0   M   61  105216   \n",
       "3  2017/10/2早上 11:00:47     5936  5035.0   M   83  105216   \n",
       "4  2017/10/2早上 11:07:17     4417  5035.0   F   58  105216   \n",
       "\n",
       "                   BTime                  ETime  \n",
       "0  2017/10/2 PM 03:48:00  2017/10/2 PM 04:21:26  \n",
       "1  2017/10/2 AM 09:27:00  2017/10/2 AM 09:49:47  \n",
       "2  2017/10/2 AM 10:50:00  2017/10/2 AM 11:24:41  \n",
       "3  2017/10/2 AM 10:11:00  2017/10/2 AM 11:00:47  \n",
       "4  2017/10/2 AM 10:10:00  2017/10/2 AM 11:07:17  "
      ]
     },
     "execution_count": 43,
     "metadata": {},
     "output_type": "execute_result"
    }
   ],
   "source": [
    "TS['BTime'] = TSmod\n",
    "TS['ETime'] = TSmod1\n",
    "TS.head()"
   ]
  },
  {
   "cell_type": "code",
   "execution_count": 85,
   "metadata": {
    "scrolled": true
   },
   "outputs": [],
   "source": [
    "TS['BTime'] = pd.to_datetime(TS['BTime'],format='%Y/%m/%d %p %I:%M:%S')"
   ]
  },
  {
   "cell_type": "code",
   "execution_count": 86,
   "metadata": {},
   "outputs": [],
   "source": [
    "TS['ETime'] = pd.to_datetime(TS['ETime'],format='%Y/%m/%d %p %I:%M:%S')"
   ]
  },
  {
   "cell_type": "code",
   "execution_count": 87,
   "metadata": {},
   "outputs": [
    {
     "data": {
      "text/html": [
       "<div>\n",
       "<style scoped>\n",
       "    .dataframe tbody tr th:only-of-type {\n",
       "        vertical-align: middle;\n",
       "    }\n",
       "\n",
       "    .dataframe tbody tr th {\n",
       "        vertical-align: top;\n",
       "    }\n",
       "\n",
       "    .dataframe thead th {\n",
       "        text-align: right;\n",
       "    }\n",
       "</style>\n",
       "<table border=\"1\" class=\"dataframe\">\n",
       "  <thead>\n",
       "    <tr style=\"text-align: right;\">\n",
       "      <th></th>\n",
       "      <th>PNO</th>\n",
       "      <th>CDATE</th>\n",
       "      <th>ITEM</th>\n",
       "      <th>SEQNO</th>\n",
       "      <th>BDATE</th>\n",
       "      <th>EDATE</th>\n",
       "      <th>ORDERDR</th>\n",
       "      <th>AMOUNT</th>\n",
       "      <th>SEX</th>\n",
       "      <th>AGE</th>\n",
       "      <th>Tool ID</th>\n",
       "      <th>BTime</th>\n",
       "      <th>ETime</th>\n",
       "    </tr>\n",
       "  </thead>\n",
       "  <tbody>\n",
       "    <tr>\n",
       "      <th>0</th>\n",
       "      <td>30228811</td>\n",
       "      <td>2017-10-02</td>\n",
       "      <td>79993</td>\n",
       "      <td>1060351497</td>\n",
       "      <td>2017/10/2下午03:48:00</td>\n",
       "      <td>2017/10/2下午04:21:26</td>\n",
       "      <td>4312</td>\n",
       "      <td>5035.0</td>\n",
       "      <td>F</td>\n",
       "      <td>47</td>\n",
       "      <td>105216</td>\n",
       "      <td>2017-10-02 15:48:00</td>\n",
       "      <td>2017-10-02 16:21:26</td>\n",
       "    </tr>\n",
       "    <tr>\n",
       "      <th>1</th>\n",
       "      <td>43524029</td>\n",
       "      <td>2017-10-02</td>\n",
       "      <td>79993</td>\n",
       "      <td>1060350477</td>\n",
       "      <td>2017/10/2早上 09:27:00</td>\n",
       "      <td>2017/10/2早上 09:49:47</td>\n",
       "      <td>4035</td>\n",
       "      <td>5035.0</td>\n",
       "      <td>M</td>\n",
       "      <td>65</td>\n",
       "      <td>105216</td>\n",
       "      <td>2017-10-02 09:27:00</td>\n",
       "      <td>2017-10-02 09:49:47</td>\n",
       "    </tr>\n",
       "    <tr>\n",
       "      <th>2</th>\n",
       "      <td>34436618</td>\n",
       "      <td>2017-10-02</td>\n",
       "      <td>79993</td>\n",
       "      <td>1060350704</td>\n",
       "      <td>2017/10/2早上 10:50:00</td>\n",
       "      <td>2017/10/2早上 11:24:41</td>\n",
       "      <td>4764</td>\n",
       "      <td>5035.0</td>\n",
       "      <td>M</td>\n",
       "      <td>61</td>\n",
       "      <td>105216</td>\n",
       "      <td>2017-10-02 10:50:00</td>\n",
       "      <td>2017-10-02 11:24:41</td>\n",
       "    </tr>\n",
       "    <tr>\n",
       "      <th>3</th>\n",
       "      <td>5717906</td>\n",
       "      <td>2017-10-02</td>\n",
       "      <td>79993</td>\n",
       "      <td>1060350602</td>\n",
       "      <td>2017/10/2早上 10:11:00</td>\n",
       "      <td>2017/10/2早上 11:00:47</td>\n",
       "      <td>5936</td>\n",
       "      <td>5035.0</td>\n",
       "      <td>M</td>\n",
       "      <td>83</td>\n",
       "      <td>105216</td>\n",
       "      <td>2017-10-02 10:11:00</td>\n",
       "      <td>2017-10-02 11:00:47</td>\n",
       "    </tr>\n",
       "    <tr>\n",
       "      <th>4</th>\n",
       "      <td>9556173</td>\n",
       "      <td>2017-10-02</td>\n",
       "      <td>79993</td>\n",
       "      <td>1060350598</td>\n",
       "      <td>2017/10/2早上 10:10:00</td>\n",
       "      <td>2017/10/2早上 11:07:17</td>\n",
       "      <td>4417</td>\n",
       "      <td>5035.0</td>\n",
       "      <td>F</td>\n",
       "      <td>58</td>\n",
       "      <td>105216</td>\n",
       "      <td>2017-10-02 10:10:00</td>\n",
       "      <td>2017-10-02 11:07:17</td>\n",
       "    </tr>\n",
       "  </tbody>\n",
       "</table>\n",
       "</div>"
      ],
      "text/plain": [
       "        PNO       CDATE   ITEM       SEQNO                 BDATE  \\\n",
       "0  30228811  2017-10-02  79993  1060351497   2017/10/2下午03:48:00   \n",
       "1  43524029  2017-10-02  79993  1060350477  2017/10/2早上 09:27:00   \n",
       "2  34436618  2017-10-02  79993  1060350704  2017/10/2早上 10:50:00   \n",
       "3   5717906  2017-10-02  79993  1060350602  2017/10/2早上 10:11:00   \n",
       "4   9556173  2017-10-02  79993  1060350598  2017/10/2早上 10:10:00   \n",
       "\n",
       "                  EDATE  ORDERDR  AMOUNT SEX  AGE Tool ID               BTime  \\\n",
       "0   2017/10/2下午04:21:26     4312  5035.0   F   47  105216 2017-10-02 15:48:00   \n",
       "1  2017/10/2早上 09:49:47     4035  5035.0   M   65  105216 2017-10-02 09:27:00   \n",
       "2  2017/10/2早上 11:24:41     4764  5035.0   M   61  105216 2017-10-02 10:50:00   \n",
       "3  2017/10/2早上 11:00:47     5936  5035.0   M   83  105216 2017-10-02 10:11:00   \n",
       "4  2017/10/2早上 11:07:17     4417  5035.0   F   58  105216 2017-10-02 10:10:00   \n",
       "\n",
       "                ETime  \n",
       "0 2017-10-02 16:21:26  \n",
       "1 2017-10-02 09:49:47  \n",
       "2 2017-10-02 11:24:41  \n",
       "3 2017-10-02 11:00:47  \n",
       "4 2017-10-02 11:07:17  "
      ]
     },
     "execution_count": 87,
     "metadata": {},
     "output_type": "execute_result"
    }
   ],
   "source": [
    "TS.head()"
   ]
  },
  {
   "cell_type": "code",
   "execution_count": 83,
   "metadata": {},
   "outputs": [],
   "source": [
    "TS['BTime'] = TS['BTime'].str.replace('00:00:00','AM 12:00:00')"
   ]
  },
  {
   "cell_type": "code",
   "execution_count": 84,
   "metadata": {},
   "outputs": [],
   "source": [
    "TS['BTime'] = TS['BTime'].str.replace('-','/')"
   ]
  },
  {
   "cell_type": "code",
   "execution_count": 88,
   "metadata": {},
   "outputs": [],
   "source": [
    "TS['Time'] = TS['ETime'] - TS['BTime']"
   ]
  },
  {
   "cell_type": "code",
   "execution_count": 95,
   "metadata": {},
   "outputs": [],
   "source": [
    "TS = TS.drop(labels='BDATE',axis=1)"
   ]
  },
  {
   "cell_type": "code",
   "execution_count": 96,
   "metadata": {},
   "outputs": [],
   "source": [
    "TS = TS.drop(labels='EDATE',axis=1)"
   ]
  },
  {
   "cell_type": "code",
   "execution_count": 99,
   "metadata": {},
   "outputs": [
    {
     "data": {
      "text/html": [
       "<div>\n",
       "<style scoped>\n",
       "    .dataframe tbody tr th:only-of-type {\n",
       "        vertical-align: middle;\n",
       "    }\n",
       "\n",
       "    .dataframe tbody tr th {\n",
       "        vertical-align: top;\n",
       "    }\n",
       "\n",
       "    .dataframe thead th {\n",
       "        text-align: right;\n",
       "    }\n",
       "</style>\n",
       "<table border=\"1\" class=\"dataframe\">\n",
       "  <thead>\n",
       "    <tr style=\"text-align: right;\">\n",
       "      <th></th>\n",
       "      <th>PNO</th>\n",
       "      <th>ITEM</th>\n",
       "      <th>SEQNO</th>\n",
       "      <th>ORDERDR</th>\n",
       "      <th>AMOUNT</th>\n",
       "      <th>AGE</th>\n",
       "      <th>Time</th>\n",
       "    </tr>\n",
       "  </thead>\n",
       "  <tbody>\n",
       "    <tr>\n",
       "      <th>count</th>\n",
       "      <td>8.623800e+04</td>\n",
       "      <td>86238.000000</td>\n",
       "      <td>8.623800e+04</td>\n",
       "      <td>86238.000000</td>\n",
       "      <td>86015.000000</td>\n",
       "      <td>86238.000000</td>\n",
       "      <td>86229</td>\n",
       "    </tr>\n",
       "    <tr>\n",
       "      <th>mean</th>\n",
       "      <td>2.903595e+07</td>\n",
       "      <td>78793.904300</td>\n",
       "      <td>1.275225e+09</td>\n",
       "      <td>4447.970964</td>\n",
       "      <td>4824.155054</td>\n",
       "      <td>58.325912</td>\n",
       "      <td>0 days 00:40:14.278073</td>\n",
       "    </tr>\n",
       "    <tr>\n",
       "      <th>std</th>\n",
       "      <td>1.711838e+07</td>\n",
       "      <td>3197.479232</td>\n",
       "      <td>4.033115e+08</td>\n",
       "      <td>1602.753794</td>\n",
       "      <td>1984.312291</td>\n",
       "      <td>16.713390</td>\n",
       "      <td>0 days 05:05:21.841742</td>\n",
       "    </tr>\n",
       "    <tr>\n",
       "      <th>min</th>\n",
       "      <td>1.001390e+05</td>\n",
       "      <td>70006.000000</td>\n",
       "      <td>1.060350e+09</td>\n",
       "      <td>176.000000</td>\n",
       "      <td>-4560.000000</td>\n",
       "      <td>0.000000</td>\n",
       "      <td>0 days 00:00:07</td>\n",
       "    </tr>\n",
       "    <tr>\n",
       "      <th>25%</th>\n",
       "      <td>1.421812e+07</td>\n",
       "      <td>79993.000000</td>\n",
       "      <td>1.070133e+09</td>\n",
       "      <td>4118.000000</td>\n",
       "      <td>3800.000000</td>\n",
       "      <td>49.000000</td>\n",
       "      <td>0 days 00:19:58</td>\n",
       "    </tr>\n",
       "    <tr>\n",
       "      <th>50%</th>\n",
       "      <td>2.919265e+07</td>\n",
       "      <td>79993.000000</td>\n",
       "      <td>1.070374e+09</td>\n",
       "      <td>4387.000000</td>\n",
       "      <td>5035.000000</td>\n",
       "      <td>60.000000</td>\n",
       "      <td>0 days 00:31:49</td>\n",
       "    </tr>\n",
       "    <tr>\n",
       "      <th>75%</th>\n",
       "      <td>4.572658e+07</td>\n",
       "      <td>79994.000000</td>\n",
       "      <td>1.080150e+09</td>\n",
       "      <td>5310.000000</td>\n",
       "      <td>5035.000000</td>\n",
       "      <td>69.000000</td>\n",
       "      <td>0 days 00:46:53</td>\n",
       "    </tr>\n",
       "    <tr>\n",
       "      <th>max</th>\n",
       "      <td>5.539517e+07</td>\n",
       "      <td>79995.000000</td>\n",
       "      <td>2.080106e+09</td>\n",
       "      <td>9999.000000</td>\n",
       "      <td>45059.000000</td>\n",
       "      <td>205.000000</td>\n",
       "      <td>28 days 00:21:34</td>\n",
       "    </tr>\n",
       "  </tbody>\n",
       "</table>\n",
       "</div>"
      ],
      "text/plain": [
       "                PNO          ITEM         SEQNO       ORDERDR        AMOUNT  \\\n",
       "count  8.623800e+04  86238.000000  8.623800e+04  86238.000000  86015.000000   \n",
       "mean   2.903595e+07  78793.904300  1.275225e+09   4447.970964   4824.155054   \n",
       "std    1.711838e+07   3197.479232  4.033115e+08   1602.753794   1984.312291   \n",
       "min    1.001390e+05  70006.000000  1.060350e+09    176.000000  -4560.000000   \n",
       "25%    1.421812e+07  79993.000000  1.070133e+09   4118.000000   3800.000000   \n",
       "50%    2.919265e+07  79993.000000  1.070374e+09   4387.000000   5035.000000   \n",
       "75%    4.572658e+07  79994.000000  1.080150e+09   5310.000000   5035.000000   \n",
       "max    5.539517e+07  79995.000000  2.080106e+09   9999.000000  45059.000000   \n",
       "\n",
       "                AGE                    Time  \n",
       "count  86238.000000                   86229  \n",
       "mean      58.325912  0 days 00:40:14.278073  \n",
       "std       16.713390  0 days 05:05:21.841742  \n",
       "min        0.000000         0 days 00:00:07  \n",
       "25%       49.000000         0 days 00:19:58  \n",
       "50%       60.000000         0 days 00:31:49  \n",
       "75%       69.000000         0 days 00:46:53  \n",
       "max      205.000000        28 days 00:21:34  "
      ]
     },
     "execution_count": 99,
     "metadata": {},
     "output_type": "execute_result"
    }
   ],
   "source": [
    "TS.describe()"
   ]
  }
 ],
 "metadata": {
  "kernelspec": {
   "display_name": "Python 3",
   "language": "python",
   "name": "python3"
  },
  "language_info": {
   "codemirror_mode": {
    "name": "ipython",
    "version": 3
   },
   "file_extension": ".py",
   "mimetype": "text/x-python",
   "name": "python",
   "nbconvert_exporter": "python",
   "pygments_lexer": "ipython3",
   "version": "3.7.3"
  }
 },
 "nbformat": 4,
 "nbformat_minor": 2
}
