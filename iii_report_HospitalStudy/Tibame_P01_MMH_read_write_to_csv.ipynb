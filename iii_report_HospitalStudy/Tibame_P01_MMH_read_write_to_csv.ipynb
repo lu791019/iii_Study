{
 "cells": [
  {
   "cell_type": "code",
   "execution_count": 1,
   "metadata": {},
   "outputs": [],
   "source": [
    "import pandas as pd\n",
    "import os\n",
    "from datetime import datetime,datetime,time,timedelta"
   ]
  },
  {
   "cell_type": "code",
   "execution_count": 12,
   "metadata": {},
   "outputs": [],
   "source": [
    "dirname = 'C:/Users/Big data/Desktop/Tool'\n",
    "\n",
    "f_tool = os.path.join(dirname,'SummaryData.xlsx')"
   ]
  },
  {
   "cell_type": "code",
   "execution_count": 14,
   "metadata": {
    "scrolled": true
   },
   "outputs": [],
   "source": [
    "Tool = pd.read_excel(f_tool)"
   ]
  },
  {
   "cell_type": "code",
   "execution_count": 18,
   "metadata": {},
   "outputs": [
    {
     "data": {
      "text/plain": [
       "Index(['PNO', 'CDATE', 'ITEM', 'SEQNO', 'BDATE', 'EDATE', 'ORDERDR', 'AMOUNT',\n",
       "       'SEX', 'AGE', 'Tool ID'],\n",
       "      dtype='object')"
      ]
     },
     "execution_count": 18,
     "metadata": {},
     "output_type": "execute_result"
    }
   ],
   "source": [
    "Tool.columns"
   ]
  },
  {
   "cell_type": "code",
   "execution_count": 22,
   "metadata": {},
   "outputs": [
    {
     "data": {
      "text/plain": [
       "(86238, 11)"
      ]
     },
     "execution_count": 22,
     "metadata": {},
     "output_type": "execute_result"
    }
   ],
   "source": [
    "Tool.shape"
   ]
  },
  {
   "cell_type": "code",
   "execution_count": 19,
   "metadata": {
    "scrolled": true
   },
   "outputs": [],
   "source": [
    "import csv\n",
    "Tool.to_csv('Tool_summary',columns=['PNO', 'CDATE', 'ITEM', 'SEQNO', 'BDATE', 'EDATE', 'ORDERDR', 'AMOUNT',\n",
    "       'SEX', 'AGE', 'Tool ID'],index=False)"
   ]
  },
  {
   "cell_type": "code",
   "execution_count": 20,
   "metadata": {
    "scrolled": true
   },
   "outputs": [
    {
     "data": {
      "text/plain": [
       "'C:\\\\Users\\\\Big data'"
      ]
     },
     "execution_count": 20,
     "metadata": {},
     "output_type": "execute_result"
    }
   ],
   "source": [
    "pwd"
   ]
  },
  {
   "cell_type": "code",
   "execution_count": null,
   "metadata": {},
   "outputs": [],
   "source": []
  },
  {
   "cell_type": "code",
   "execution_count": 23,
   "metadata": {},
   "outputs": [],
   "source": [
    "f_Drmrege=os.path.join(dirname,'doctor_Merge_mod01.xlsx')"
   ]
  },
  {
   "cell_type": "code",
   "execution_count": 25,
   "metadata": {},
   "outputs": [],
   "source": [
    "Dr_merge = pd.read_excel(f_Drmrege)"
   ]
  },
  {
   "cell_type": "code",
   "execution_count": 26,
   "metadata": {},
   "outputs": [
    {
     "data": {
      "text/html": [
       "<div>\n",
       "<style scoped>\n",
       "    .dataframe tbody tr th:only-of-type {\n",
       "        vertical-align: middle;\n",
       "    }\n",
       "\n",
       "    .dataframe tbody tr th {\n",
       "        vertical-align: top;\n",
       "    }\n",
       "\n",
       "    .dataframe thead th {\n",
       "        text-align: right;\n",
       "    }\n",
       "</style>\n",
       "<table border=\"1\" class=\"dataframe\">\n",
       "  <thead>\n",
       "    <tr style=\"text-align: right;\">\n",
       "      <th></th>\n",
       "      <th>醫師姓名</th>\n",
       "      <th>醫師編號</th>\n",
       "      <th>備註</th>\n",
       "      <th>科別</th>\n",
       "    </tr>\n",
       "  </thead>\n",
       "  <tbody>\n",
       "    <tr>\n",
       "      <th>0</th>\n",
       "      <td>李淳權</td>\n",
       "      <td>5957</td>\n",
       "      <td>NaN</td>\n",
       "      <td>內分泌暨新陳代謝科(12)</td>\n",
       "    </tr>\n",
       "    <tr>\n",
       "      <th>1</th>\n",
       "      <td>廖偉丞</td>\n",
       "      <td>5147</td>\n",
       "      <td>NaN</td>\n",
       "      <td>內分泌暨新陳代謝科(12)</td>\n",
       "    </tr>\n",
       "    <tr>\n",
       "      <th>2</th>\n",
       "      <td>梁清香</td>\n",
       "      <td>5969</td>\n",
       "      <td>NaN</td>\n",
       "      <td>內分泌暨新陳代謝科(12)</td>\n",
       "    </tr>\n",
       "    <tr>\n",
       "      <th>3</th>\n",
       "      <td>簡銘男</td>\n",
       "      <td>5951</td>\n",
       "      <td>NaN</td>\n",
       "      <td>內分泌暨新陳代謝科(12)</td>\n",
       "    </tr>\n",
       "    <tr>\n",
       "      <th>4</th>\n",
       "      <td>莊世旻</td>\n",
       "      <td>6472</td>\n",
       "      <td>NaN</td>\n",
       "      <td>內分泌暨新陳代謝科(12)</td>\n",
       "    </tr>\n",
       "  </tbody>\n",
       "</table>\n",
       "</div>"
      ],
      "text/plain": [
       "  醫師姓名  醫師編號   備註             科別\n",
       "0  李淳權  5957  NaN  內分泌暨新陳代謝科(12)\n",
       "1  廖偉丞  5147  NaN  內分泌暨新陳代謝科(12)\n",
       "2  梁清香  5969  NaN  內分泌暨新陳代謝科(12)\n",
       "3  簡銘男  5951  NaN  內分泌暨新陳代謝科(12)\n",
       "4  莊世旻  6472  NaN  內分泌暨新陳代謝科(12)"
      ]
     },
     "execution_count": 26,
     "metadata": {},
     "output_type": "execute_result"
    }
   ],
   "source": [
    "Dr_merge.head()"
   ]
  },
  {
   "cell_type": "code",
   "execution_count": 27,
   "metadata": {},
   "outputs": [
    {
     "data": {
      "text/plain": [
       "(783, 4)"
      ]
     },
     "execution_count": 27,
     "metadata": {},
     "output_type": "execute_result"
    }
   ],
   "source": [
    "Dr_merge.shape"
   ]
  },
  {
   "cell_type": "code",
   "execution_count": 28,
   "metadata": {},
   "outputs": [
    {
     "data": {
      "text/plain": [
       "Index(['醫師姓名', '醫師編號', '備註', '科別'], dtype='object')"
      ]
     },
     "execution_count": 28,
     "metadata": {},
     "output_type": "execute_result"
    }
   ],
   "source": [
    "Dr_merge.columns"
   ]
  },
  {
   "cell_type": "code",
   "execution_count": 33,
   "metadata": {},
   "outputs": [
    {
     "data": {
      "text/html": [
       "<div>\n",
       "<style scoped>\n",
       "    .dataframe tbody tr th:only-of-type {\n",
       "        vertical-align: middle;\n",
       "    }\n",
       "\n",
       "    .dataframe tbody tr th {\n",
       "        vertical-align: top;\n",
       "    }\n",
       "\n",
       "    .dataframe thead th {\n",
       "        text-align: right;\n",
       "    }\n",
       "</style>\n",
       "<table border=\"1\" class=\"dataframe\">\n",
       "  <thead>\n",
       "    <tr style=\"text-align: right;\">\n",
       "      <th></th>\n",
       "      <th>醫師姓名</th>\n",
       "      <th>ORDERDR</th>\n",
       "      <th>Remarked</th>\n",
       "      <th>Department</th>\n",
       "    </tr>\n",
       "  </thead>\n",
       "  <tbody>\n",
       "    <tr>\n",
       "      <th>0</th>\n",
       "      <td>李淳權</td>\n",
       "      <td>5957</td>\n",
       "      <td>NaN</td>\n",
       "      <td>內分泌暨新陳代謝科(12)</td>\n",
       "    </tr>\n",
       "    <tr>\n",
       "      <th>1</th>\n",
       "      <td>廖偉丞</td>\n",
       "      <td>5147</td>\n",
       "      <td>NaN</td>\n",
       "      <td>內分泌暨新陳代謝科(12)</td>\n",
       "    </tr>\n",
       "    <tr>\n",
       "      <th>2</th>\n",
       "      <td>梁清香</td>\n",
       "      <td>5969</td>\n",
       "      <td>NaN</td>\n",
       "      <td>內分泌暨新陳代謝科(12)</td>\n",
       "    </tr>\n",
       "    <tr>\n",
       "      <th>3</th>\n",
       "      <td>簡銘男</td>\n",
       "      <td>5951</td>\n",
       "      <td>NaN</td>\n",
       "      <td>內分泌暨新陳代謝科(12)</td>\n",
       "    </tr>\n",
       "    <tr>\n",
       "      <th>4</th>\n",
       "      <td>莊世旻</td>\n",
       "      <td>6472</td>\n",
       "      <td>NaN</td>\n",
       "      <td>內分泌暨新陳代謝科(12)</td>\n",
       "    </tr>\n",
       "  </tbody>\n",
       "</table>\n",
       "</div>"
      ],
      "text/plain": [
       "  醫師姓名 ORDERDR Remarked     Department\n",
       "0  李淳權    5957      NaN  內分泌暨新陳代謝科(12)\n",
       "1  廖偉丞    5147      NaN  內分泌暨新陳代謝科(12)\n",
       "2  梁清香    5969      NaN  內分泌暨新陳代謝科(12)\n",
       "3  簡銘男    5951      NaN  內分泌暨新陳代謝科(12)\n",
       "4  莊世旻    6472      NaN  內分泌暨新陳代謝科(12)"
      ]
     },
     "execution_count": 33,
     "metadata": {},
     "output_type": "execute_result"
    }
   ],
   "source": [
    "Dr_merge = Dr_merge.rename(columns={'醫生姓名':'Dr_Name','醫師編號':'ORDERDR','備註':'Remarked','科別':'Department'})\n",
    "Dr_merge.head()"
   ]
  },
  {
   "cell_type": "code",
   "execution_count": 35,
   "metadata": {},
   "outputs": [
    {
     "data": {
      "text/html": [
       "<div>\n",
       "<style scoped>\n",
       "    .dataframe tbody tr th:only-of-type {\n",
       "        vertical-align: middle;\n",
       "    }\n",
       "\n",
       "    .dataframe tbody tr th {\n",
       "        vertical-align: top;\n",
       "    }\n",
       "\n",
       "    .dataframe thead th {\n",
       "        text-align: right;\n",
       "    }\n",
       "</style>\n",
       "<table border=\"1\" class=\"dataframe\">\n",
       "  <thead>\n",
       "    <tr style=\"text-align: right;\">\n",
       "      <th></th>\n",
       "      <th>Dr_Name</th>\n",
       "      <th>ORDERDR</th>\n",
       "      <th>Remarked</th>\n",
       "      <th>Department</th>\n",
       "    </tr>\n",
       "  </thead>\n",
       "  <tbody>\n",
       "    <tr>\n",
       "      <th>0</th>\n",
       "      <td>李淳權</td>\n",
       "      <td>5957</td>\n",
       "      <td>NaN</td>\n",
       "      <td>內分泌暨新陳代謝科(12)</td>\n",
       "    </tr>\n",
       "    <tr>\n",
       "      <th>1</th>\n",
       "      <td>廖偉丞</td>\n",
       "      <td>5147</td>\n",
       "      <td>NaN</td>\n",
       "      <td>內分泌暨新陳代謝科(12)</td>\n",
       "    </tr>\n",
       "    <tr>\n",
       "      <th>2</th>\n",
       "      <td>梁清香</td>\n",
       "      <td>5969</td>\n",
       "      <td>NaN</td>\n",
       "      <td>內分泌暨新陳代謝科(12)</td>\n",
       "    </tr>\n",
       "    <tr>\n",
       "      <th>3</th>\n",
       "      <td>簡銘男</td>\n",
       "      <td>5951</td>\n",
       "      <td>NaN</td>\n",
       "      <td>內分泌暨新陳代謝科(12)</td>\n",
       "    </tr>\n",
       "    <tr>\n",
       "      <th>4</th>\n",
       "      <td>莊世旻</td>\n",
       "      <td>6472</td>\n",
       "      <td>NaN</td>\n",
       "      <td>內分泌暨新陳代謝科(12)</td>\n",
       "    </tr>\n",
       "  </tbody>\n",
       "</table>\n",
       "</div>"
      ],
      "text/plain": [
       "  Dr_Name ORDERDR Remarked     Department\n",
       "0     李淳權    5957      NaN  內分泌暨新陳代謝科(12)\n",
       "1     廖偉丞    5147      NaN  內分泌暨新陳代謝科(12)\n",
       "2     梁清香    5969      NaN  內分泌暨新陳代謝科(12)\n",
       "3     簡銘男    5951      NaN  內分泌暨新陳代謝科(12)\n",
       "4     莊世旻    6472      NaN  內分泌暨新陳代謝科(12)"
      ]
     },
     "execution_count": 35,
     "metadata": {},
     "output_type": "execute_result"
    }
   ],
   "source": [
    "Dr_merge = Dr_merge.rename(columns={'醫師姓名':'Dr_Name'})\n",
    "Dr_merge.head()"
   ]
  },
  {
   "cell_type": "code",
   "execution_count": 37,
   "metadata": {},
   "outputs": [
    {
     "data": {
      "text/plain": [
       "Index(['Dr_Name', 'ORDERDR', 'Remarked', 'Department'], dtype='object')"
      ]
     },
     "execution_count": 37,
     "metadata": {},
     "output_type": "execute_result"
    }
   ],
   "source": [
    "Dr_merge.columns"
   ]
  },
  {
   "cell_type": "code",
   "execution_count": 36,
   "metadata": {},
   "outputs": [
    {
     "data": {
      "text/plain": [
       "(783, 4)"
      ]
     },
     "execution_count": 36,
     "metadata": {},
     "output_type": "execute_result"
    }
   ],
   "source": [
    "Dr_merge.shape"
   ]
  },
  {
   "cell_type": "code",
   "execution_count": 38,
   "metadata": {},
   "outputs": [],
   "source": [
    "Dr_merge.to_csv('Doctor_merge_ORDERDR_Department',columns=['Dr_Name', 'ORDERDR', 'Remarked', 'Department'],index=False)"
   ]
  },
  {
   "cell_type": "code",
   "execution_count": 39,
   "metadata": {},
   "outputs": [],
   "source": [
    "f_Item = os.path.join(dirname,'cbu84-jywqi.csv')"
   ]
  },
  {
   "cell_type": "code",
   "execution_count": 42,
   "metadata": {},
   "outputs": [
    {
     "data": {
      "text/html": [
       "<div>\n",
       "<style scoped>\n",
       "    .dataframe tbody tr th:only-of-type {\n",
       "        vertical-align: middle;\n",
       "    }\n",
       "\n",
       "    .dataframe tbody tr th {\n",
       "        vertical-align: top;\n",
       "    }\n",
       "\n",
       "    .dataframe thead th {\n",
       "        text-align: right;\n",
       "    }\n",
       "</style>\n",
       "<table border=\"1\" class=\"dataframe\">\n",
       "  <thead>\n",
       "    <tr style=\"text-align: right;\">\n",
       "      <th></th>\n",
       "      <th>馬偕代碼</th>\n",
       "      <th>項目名稱</th>\n",
       "      <th>自費價</th>\n",
       "    </tr>\n",
       "  </thead>\n",
       "  <tbody>\n",
       "    <tr>\n",
       "      <th>0</th>\n",
       "      <td>11001</td>\n",
       "      <td>FIRSTRGST初診掛號手續費</td>\n",
       "      <td>150.0</td>\n",
       "    </tr>\n",
       "    <tr>\n",
       "      <th>1</th>\n",
       "      <td>11002</td>\n",
       "      <td>REGISTERFEE複診掛號手續費</td>\n",
       "      <td>100.0</td>\n",
       "    </tr>\n",
       "    <tr>\n",
       "      <th>2</th>\n",
       "      <td>11003</td>\n",
       "      <td>EMGRGST急診初診掛號手續費</td>\n",
       "      <td>250.0</td>\n",
       "    </tr>\n",
       "    <tr>\n",
       "      <th>3</th>\n",
       "      <td>11004</td>\n",
       "      <td>EMGRGSTFEE急診複診掛號手續費</td>\n",
       "      <td>250.0</td>\n",
       "    </tr>\n",
       "    <tr>\n",
       "      <th>4</th>\n",
       "      <td>11007</td>\n",
       "      <td>精神科強制鑑定掛號費</td>\n",
       "      <td>100.0</td>\n",
       "    </tr>\n",
       "  </tbody>\n",
       "</table>\n",
       "</div>"
      ],
      "text/plain": [
       "    馬偕代碼                 項目名稱    自費價\n",
       "0  11001     FIRSTRGST初診掛號手續費  150.0\n",
       "1  11002   REGISTERFEE複診掛號手續費  100.0\n",
       "2  11003     EMGRGST急診初診掛號手續費  250.0\n",
       "3  11004  EMGRGSTFEE急診複診掛號手續費  250.0\n",
       "4  11007           精神科強制鑑定掛號費  100.0"
      ]
     },
     "execution_count": 42,
     "metadata": {},
     "output_type": "execute_result"
    }
   ],
   "source": [
    "Item_list = pd.read_csv(f_Item)\n",
    "Item_list.head()"
   ]
  },
  {
   "cell_type": "code",
   "execution_count": 44,
   "metadata": {},
   "outputs": [
    {
     "data": {
      "text/plain": [
       "(5663, 3)"
      ]
     },
     "execution_count": 44,
     "metadata": {},
     "output_type": "execute_result"
    }
   ],
   "source": [
    "Item_list.shape"
   ]
  },
  {
   "cell_type": "code",
   "execution_count": 53,
   "metadata": {},
   "outputs": [
    {
     "data": {
      "text/html": [
       "<div>\n",
       "<style scoped>\n",
       "    .dataframe tbody tr th:only-of-type {\n",
       "        vertical-align: middle;\n",
       "    }\n",
       "\n",
       "    .dataframe tbody tr th {\n",
       "        vertical-align: top;\n",
       "    }\n",
       "\n",
       "    .dataframe thead th {\n",
       "        text-align: right;\n",
       "    }\n",
       "</style>\n",
       "<table border=\"1\" class=\"dataframe\">\n",
       "  <thead>\n",
       "    <tr style=\"text-align: right;\">\n",
       "      <th></th>\n",
       "      <th>ITEM</th>\n",
       "      <th>List_Name</th>\n",
       "      <th>Cost_Self</th>\n",
       "    </tr>\n",
       "  </thead>\n",
       "  <tbody>\n",
       "    <tr>\n",
       "      <th>0</th>\n",
       "      <td>11001</td>\n",
       "      <td>FIRSTRGST初診掛號手續費</td>\n",
       "      <td>150.0</td>\n",
       "    </tr>\n",
       "    <tr>\n",
       "      <th>1</th>\n",
       "      <td>11002</td>\n",
       "      <td>REGISTERFEE複診掛號手續費</td>\n",
       "      <td>100.0</td>\n",
       "    </tr>\n",
       "    <tr>\n",
       "      <th>2</th>\n",
       "      <td>11003</td>\n",
       "      <td>EMGRGST急診初診掛號手續費</td>\n",
       "      <td>250.0</td>\n",
       "    </tr>\n",
       "    <tr>\n",
       "      <th>3</th>\n",
       "      <td>11004</td>\n",
       "      <td>EMGRGSTFEE急診複診掛號手續費</td>\n",
       "      <td>250.0</td>\n",
       "    </tr>\n",
       "    <tr>\n",
       "      <th>4</th>\n",
       "      <td>11007</td>\n",
       "      <td>精神科強制鑑定掛號費</td>\n",
       "      <td>100.0</td>\n",
       "    </tr>\n",
       "  </tbody>\n",
       "</table>\n",
       "</div>"
      ],
      "text/plain": [
       "    ITEM            List_Name  Cost_Self\n",
       "0  11001     FIRSTRGST初診掛號手續費      150.0\n",
       "1  11002   REGISTERFEE複診掛號手續費      100.0\n",
       "2  11003     EMGRGST急診初診掛號手續費      250.0\n",
       "3  11004  EMGRGSTFEE急診複診掛號手續費      250.0\n",
       "4  11007           精神科強制鑑定掛號費      100.0"
      ]
     },
     "execution_count": 53,
     "metadata": {},
     "output_type": "execute_result"
    }
   ],
   "source": [
    "Item_list = Item_list.rename(columns={'馬偕代碼':'ITEM','項目名稱':'List_Name','Cost_self':'Cost_Self'})\n",
    "Item_list.head()"
   ]
  },
  {
   "cell_type": "code",
   "execution_count": 55,
   "metadata": {},
   "outputs": [
    {
     "data": {
      "text/plain": [
       "Index(['ITEM', 'List_Name', 'Cost_Self'], dtype='object')"
      ]
     },
     "execution_count": 55,
     "metadata": {},
     "output_type": "execute_result"
    }
   ],
   "source": [
    "Item_list.columns"
   ]
  },
  {
   "cell_type": "code",
   "execution_count": 54,
   "metadata": {},
   "outputs": [
    {
     "data": {
      "text/plain": [
       "(5663, 3)"
      ]
     },
     "execution_count": 54,
     "metadata": {},
     "output_type": "execute_result"
    }
   ],
   "source": [
    "Item_list.shape"
   ]
  },
  {
   "cell_type": "code",
   "execution_count": 56,
   "metadata": {},
   "outputs": [],
   "source": [
    "Item_list.to_csv('Item_ListName',columns=['ITEM', 'List_Name', 'Cost_Self'],index=False)"
   ]
  },
  {
   "cell_type": "code",
   "execution_count": 1,
   "metadata": {},
   "outputs": [
    {
     "data": {
      "text/plain": [
       "'C:\\\\Users\\\\Big data'"
      ]
     },
     "execution_count": 1,
     "metadata": {},
     "output_type": "execute_result"
    }
   ],
   "source": [
    "pwd"
   ]
  }
 ],
 "metadata": {
  "kernelspec": {
   "display_name": "Python 3",
   "language": "python",
   "name": "python3"
  },
  "language_info": {
   "codemirror_mode": {
    "name": "ipython",
    "version": 3
   },
   "file_extension": ".py",
   "mimetype": "text/x-python",
   "name": "python",
   "nbconvert_exporter": "python",
   "pygments_lexer": "ipython3",
   "version": "3.7.3"
  }
 },
 "nbformat": 4,
 "nbformat_minor": 2
}
