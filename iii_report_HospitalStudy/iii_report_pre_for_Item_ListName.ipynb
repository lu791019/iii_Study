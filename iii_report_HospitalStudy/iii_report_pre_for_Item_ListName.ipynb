{
 "cells": [
  {
   "cell_type": "code",
   "execution_count": 20,
   "metadata": {},
   "outputs": [],
   "source": [
    "import pandas as pd\n",
    "import numpy as np\n",
    "import os"
   ]
  },
  {
   "cell_type": "code",
   "execution_count": 21,
   "metadata": {},
   "outputs": [],
   "source": [
    "dirname = 'C:/Users/Big data/Desktop/Tibame_tool_Data'"
   ]
  },
  {
   "cell_type": "code",
   "execution_count": 22,
   "metadata": {},
   "outputs": [
    {
     "data": {
      "text/html": [
       "<div>\n",
       "<style scoped>\n",
       "    .dataframe tbody tr th:only-of-type {\n",
       "        vertical-align: middle;\n",
       "    }\n",
       "\n",
       "    .dataframe tbody tr th {\n",
       "        vertical-align: top;\n",
       "    }\n",
       "\n",
       "    .dataframe thead th {\n",
       "        text-align: right;\n",
       "    }\n",
       "</style>\n",
       "<table border=\"1\" class=\"dataframe\">\n",
       "  <thead>\n",
       "    <tr style=\"text-align: right;\">\n",
       "      <th></th>\n",
       "      <th>ITEM</th>\n",
       "      <th>List_Name</th>\n",
       "      <th>Cost_Self</th>\n",
       "    </tr>\n",
       "  </thead>\n",
       "  <tbody>\n",
       "    <tr>\n",
       "      <th>0</th>\n",
       "      <td>11001</td>\n",
       "      <td>FIRSTRGST初診掛號手續費</td>\n",
       "      <td>150.0</td>\n",
       "    </tr>\n",
       "    <tr>\n",
       "      <th>1</th>\n",
       "      <td>11002</td>\n",
       "      <td>REGISTERFEE複診掛號手續費</td>\n",
       "      <td>100.0</td>\n",
       "    </tr>\n",
       "    <tr>\n",
       "      <th>2</th>\n",
       "      <td>11003</td>\n",
       "      <td>EMGRGST急診初診掛號手續費</td>\n",
       "      <td>250.0</td>\n",
       "    </tr>\n",
       "    <tr>\n",
       "      <th>3</th>\n",
       "      <td>11004</td>\n",
       "      <td>EMGRGSTFEE急診複診掛號手續費</td>\n",
       "      <td>250.0</td>\n",
       "    </tr>\n",
       "    <tr>\n",
       "      <th>4</th>\n",
       "      <td>11007</td>\n",
       "      <td>精神科強制鑑定掛號費</td>\n",
       "      <td>100.0</td>\n",
       "    </tr>\n",
       "  </tbody>\n",
       "</table>\n",
       "</div>"
      ],
      "text/plain": [
       "    ITEM            List_Name  Cost_Self\n",
       "0  11001     FIRSTRGST初診掛號手續費      150.0\n",
       "1  11002   REGISTERFEE複診掛號手續費      100.0\n",
       "2  11003     EMGRGST急診初診掛號手續費      250.0\n",
       "3  11004  EMGRGSTFEE急診複診掛號手續費      250.0\n",
       "4  11007           精神科強制鑑定掛號費      100.0"
      ]
     },
     "execution_count": 22,
     "metadata": {},
     "output_type": "execute_result"
    }
   ],
   "source": [
    "f_list = os.path.join(dirname,'Item_ListName')\n",
    "IM = pd.read_csv(f_list)\n",
    "IM.head()"
   ]
  },
  {
   "cell_type": "code",
   "execution_count": 29,
   "metadata": {
    "scrolled": true
   },
   "outputs": [
    {
     "name": "stdout",
     "output_type": "stream",
     "text": [
      "<class 'pandas.core.frame.DataFrame'>\n",
      "RangeIndex: 5663 entries, 0 to 5662\n",
      "Data columns (total 3 columns):\n",
      "ITEM         5663 non-null object\n",
      "List_Name    5659 non-null object\n",
      "Cost_Self    5650 non-null float64\n",
      "dtypes: float64(1), object(2)\n",
      "memory usage: 132.8+ KB\n"
     ]
    }
   ],
   "source": [
    "IM.info()"
   ]
  },
  {
   "cell_type": "code",
   "execution_count": 24,
   "metadata": {},
   "outputs": [],
   "source": [
    "#保留\n",
    "IM_alpha = IM"
   ]
  },
  {
   "cell_type": "code",
   "execution_count": 26,
   "metadata": {
    "scrolled": false
   },
   "outputs": [
    {
     "name": "stdout",
     "output_type": "stream",
     "text": [
      "(13, 3)\n"
     ]
    },
    {
     "data": {
      "text/html": [
       "<div>\n",
       "<style scoped>\n",
       "    .dataframe tbody tr th:only-of-type {\n",
       "        vertical-align: middle;\n",
       "    }\n",
       "\n",
       "    .dataframe tbody tr th {\n",
       "        vertical-align: top;\n",
       "    }\n",
       "\n",
       "    .dataframe thead th {\n",
       "        text-align: right;\n",
       "    }\n",
       "</style>\n",
       "<table border=\"1\" class=\"dataframe\">\n",
       "  <thead>\n",
       "    <tr style=\"text-align: right;\">\n",
       "      <th></th>\n",
       "      <th>ITEM</th>\n",
       "      <th>List_Name</th>\n",
       "      <th>Cost_Self</th>\n",
       "    </tr>\n",
       "  </thead>\n",
       "  <tbody>\n",
       "    <tr>\n",
       "      <th>1034</th>\n",
       "      <td>41994</td>\n",
       "      <td>ENTLOCALTREATMENT-WOUNDTREATMENTANDCHANGEDRESS...</td>\n",
       "      <td>NaN</td>\n",
       "    </tr>\n",
       "    <tr>\n",
       "      <th>2149</th>\n",
       "      <td>ThoracoscopicEsophagomyotomy</td>\n",
       "      <td>NaN</td>\n",
       "      <td>NaN</td>\n",
       "    </tr>\n",
       "    <tr>\n",
       "      <th>2151</th>\n",
       "      <td>胸腔鏡食道肌肉切開術(註：Hellertype為限)</td>\n",
       "      <td>NaN</td>\n",
       "      <td>NaN</td>\n",
       "    </tr>\n",
       "    <tr>\n",
       "      <th>2368</th>\n",
       "      <td>4375811</td>\n",
       "      <td>EXCISIONOFRETROPERITONEALMALIGNANTWITHRETROPER...</td>\n",
       "      <td>NaN</td>\n",
       "    </tr>\n",
       "    <tr>\n",
       "      <th>2483</th>\n",
       "      <td>4378039</td>\n",
       "      <td>CystoprostatectomywithoutPLNDwithouturethrecto...</td>\n",
       "      <td>NaN</td>\n",
       "    </tr>\n",
       "    <tr>\n",
       "      <th>2653</th>\n",
       "      <td>4380605B-1ENDTOENDANASTOMOSISUNILATERAL</td>\n",
       "      <td>11992</td>\n",
       "      <td>NaN</td>\n",
       "    </tr>\n",
       "    <tr>\n",
       "      <th>2658</th>\n",
       "      <td>4380607B-1輸卵管補植術Reimplantationwithmicroscopicu...</td>\n",
       "      <td>7590</td>\n",
       "      <td>NaN</td>\n",
       "    </tr>\n",
       "    <tr>\n",
       "      <th>3300</th>\n",
       "      <td>48818</td>\n",
       "      <td>SEMI-OPENEDORSEMI-CLOSEDMASKINHALATIONGENERALA...</td>\n",
       "      <td>NaN</td>\n",
       "    </tr>\n",
       "    <tr>\n",
       "      <th>3510</th>\n",
       "      <td>49322</td>\n",
       "      <td>SPECIALTREATMENTOFEXTRACTIONWOUND拔牙後特別處理　註：包括附...</td>\n",
       "      <td>NaN</td>\n",
       "    </tr>\n",
       "    <tr>\n",
       "      <th>3532</th>\n",
       "      <td>49356</td>\n",
       "      <td>SEQUESTRECTOMY:COMPLICATEDCASEMORETHAN1/3ARCH腐...</td>\n",
       "      <td>NaN</td>\n",
       "    </tr>\n",
       "    <tr>\n",
       "      <th>4458</th>\n",
       "      <td>MTXTHERAPEUTICDURGMONITOR</td>\n",
       "      <td>NaN</td>\n",
       "      <td>NaN</td>\n",
       "    </tr>\n",
       "    <tr>\n",
       "      <th>4459</th>\n",
       "      <td>66066</td>\n",
       "      <td>1600</td>\n",
       "      <td>NaN</td>\n",
       "    </tr>\n",
       "    <tr>\n",
       "      <th>4460</th>\n",
       "      <td>滅殺除癌血中濃度監測</td>\n",
       "      <td>NaN</td>\n",
       "      <td>NaN</td>\n",
       "    </tr>\n",
       "  </tbody>\n",
       "</table>\n",
       "</div>"
      ],
      "text/plain": [
       "                                                   ITEM  \\\n",
       "1034                                              41994   \n",
       "2149                       ThoracoscopicEsophagomyotomy   \n",
       "2151                         胸腔鏡食道肌肉切開術(註：Hellertype為限)   \n",
       "2368                                            4375811   \n",
       "2483                                            4378039   \n",
       "2653            4380605B-1ENDTOENDANASTOMOSISUNILATERAL   \n",
       "2658  4380607B-1輸卵管補植術Reimplantationwithmicroscopicu...   \n",
       "3300                                              48818   \n",
       "3510                                              49322   \n",
       "3532                                              49356   \n",
       "4458                          MTXTHERAPEUTICDURGMONITOR   \n",
       "4459                                              66066   \n",
       "4460                                         滅殺除癌血中濃度監測   \n",
       "\n",
       "                                              List_Name  Cost_Self  \n",
       "1034  ENTLOCALTREATMENT-WOUNDTREATMENTANDCHANGEDRESS...        NaN  \n",
       "2149                                                NaN        NaN  \n",
       "2151                                                NaN        NaN  \n",
       "2368  EXCISIONOFRETROPERITONEALMALIGNANTWITHRETROPER...        NaN  \n",
       "2483  CystoprostatectomywithoutPLNDwithouturethrecto...        NaN  \n",
       "2653                                              11992        NaN  \n",
       "2658                                               7590        NaN  \n",
       "3300  SEMI-OPENEDORSEMI-CLOSEDMASKINHALATIONGENERALA...        NaN  \n",
       "3510  SPECIALTREATMENTOFEXTRACTIONWOUND拔牙後特別處理　註：包括附...        NaN  \n",
       "3532  SEQUESTRECTOMY:COMPLICATEDCASEMORETHAN1/3ARCH腐...        NaN  \n",
       "4458                                                NaN        NaN  \n",
       "4459                                               1600        NaN  \n",
       "4460                                                NaN        NaN  "
      ]
     },
     "execution_count": 26,
     "metadata": {},
     "output_type": "execute_result"
    }
   ],
   "source": [
    "print(IM[IM['Cost_Self'].isnull()].shape)\n",
    "IM[IM['Cost_Self'].isnull()]"
   ]
  },
  {
   "cell_type": "code",
   "execution_count": 42,
   "metadata": {},
   "outputs": [],
   "source": [
    "IM = IM[~IM['Cost_Self'].isnull()]"
   ]
  },
  {
   "cell_type": "code",
   "execution_count": 43,
   "metadata": {},
   "outputs": [
    {
     "name": "stdout",
     "output_type": "stream",
     "text": [
      "<class 'pandas.core.frame.DataFrame'>\n",
      "Int64Index: 5650 entries, 0 to 5662\n",
      "Data columns (total 3 columns):\n",
      "ITEM         5650 non-null object\n",
      "List_Name    5650 non-null object\n",
      "Cost_Self    5650 non-null float64\n",
      "dtypes: float64(1), object(2)\n",
      "memory usage: 176.6+ KB\n"
     ]
    }
   ],
   "source": [
    "IM.info()"
   ]
  },
  {
   "cell_type": "code",
   "execution_count": 44,
   "metadata": {},
   "outputs": [],
   "source": [
    "IM.to_csv('Item_final',sep=',')"
   ]
  },
  {
   "cell_type": "code",
   "execution_count": 45,
   "metadata": {},
   "outputs": [
    {
     "data": {
      "text/plain": [
       "'C:\\\\Users\\\\Big data\\\\iii_report_HospitalStudy'"
      ]
     },
     "execution_count": 45,
     "metadata": {},
     "output_type": "execute_result"
    }
   ],
   "source": [
    "pwd"
   ]
  }
 ],
 "metadata": {
  "kernelspec": {
   "display_name": "Python 3",
   "language": "python",
   "name": "python3"
  },
  "language_info": {
   "codemirror_mode": {
    "name": "ipython",
    "version": 3
   },
   "file_extension": ".py",
   "mimetype": "text/x-python",
   "name": "python",
   "nbconvert_exporter": "python",
   "pygments_lexer": "ipython3",
   "version": "3.7.3"
  }
 },
 "nbformat": 4,
 "nbformat_minor": 2
}
